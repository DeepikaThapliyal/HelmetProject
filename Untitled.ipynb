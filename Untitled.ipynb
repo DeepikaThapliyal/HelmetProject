{
 "cells": [
  {
   "cell_type": "code",
   "execution_count": 1,
   "id": "d3e42a07-2033-4834-b45e-7265dee000cf",
   "metadata": {},
   "outputs": [],
   "source": [
    "import cv2"
   ]
  },
  {
   "cell_type": "code",
   "execution_count": 2,
   "id": "e6770289-e0c3-403e-b399-56fd7bd41dcc",
   "metadata": {},
   "outputs": [],
   "source": [
    "#function to extract frame\n",
    "import cv2\n",
    "\n",
    "def FrameCapture(path):\n",
    "    # Path to video file\n",
    "    vid = cv2.VideoCapture(path)\n",
    "    # Used as counter variable\n",
    "    count = 0\n",
    "    # Check if frames are extracted\n",
    "    success = 1\n",
    "    while success:\n",
    "        # vid object calls read function to extract frames\n",
    "        success, image = vid.read()\n",
    "        if success:\n",
    "            # Save the frames with frame-count\n",
    "            cv2.imwrite(\"frame%d.jpg\" % count, image)\n",
    "            count += 1\n",
    "    # Release the VideoCapture object\n",
    "    vid.release()\n",
    "\n"
   ]
  },
  {
   "cell_type": "code",
   "execution_count": 3,
   "id": "d21eb155-379f-4cd6-918d-edf0e470fc50",
   "metadata": {},
   "outputs": [],
   "source": [
    "#FrameCapture(\"C:\\\\Users\\\\Deepika\\\\Downloads\\\\Video_data.mp4\")"
   ]
  },
  {
   "cell_type": "code",
   "execution_count": 4,
   "id": "cd0c24a0-18d5-400b-8fe2-fd2bf359cd89",
   "metadata": {},
   "outputs": [],
   "source": [
    "#FrameCapture(\"C:\\\\Users\\\\Deepika\\\\Downloads\\\\pexels_videos_2689 (1080p).mp4\")"
   ]
  },
  {
   "cell_type": "code",
   "execution_count": null,
   "id": "6e49b2d1-6ca1-495e-a793-e2971a635340",
   "metadata": {},
   "outputs": [],
   "source": []
  }
 ],
 "metadata": {
  "kernelspec": {
   "display_name": "Python 3 (ipykernel)",
   "language": "python",
   "name": "python3"
  },
  "language_info": {
   "codemirror_mode": {
    "name": "ipython",
    "version": 3
   },
   "file_extension": ".py",
   "mimetype": "text/x-python",
   "name": "python",
   "nbconvert_exporter": "python",
   "pygments_lexer": "ipython3",
   "version": "3.11.5"
  }
 },
 "nbformat": 4,
 "nbformat_minor": 5
}
