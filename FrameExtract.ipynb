{
 "cells": [
  {
   "cell_type": "code",
   "execution_count": null,
   "id": "c0d77353-b3f8-4789-8928-e82aa43255d1",
   "metadata": {},
   "outputs": [],
   "source": [
    "import cv2\n",
    "import os\n",
    "\n",
    "max_frames = 500  # Set the maximum number of frames to extract\n",
    "output_folder = \"C:\\\\Users\\\\Deepika\\\\HelmetProject\\\\images\"  # Output folder to save extracted frames\n",
    "\n",
    "# Create the output folder if it doesn't exist\n",
    "os.makedirs(output_folder, exist_ok=True)\n",
    "\n",
    "cap = cv2.VideoCapture(\"C:\\\\Users\\\\Deepika\\\\HelmetProject\\\\IMG_4609 (2).MOV\")\n",
    "\n",
    "cpt = 0  # Initialize frame counter\n",
    "while cpt < max_frames:\n",
    "    ret, frame = cap.read()\n",
    "    if not ret:  # Check if frame is empty or capture is unsuccessful\n",
    "        break\n",
    "\n",
    "    frame = cv2.resize(frame, (1080, 500))\n",
    "    cv2.imshow(\"test window\", frame)\n",
    "\n",
    "    # Save the frame as an image\n",
    "    cv2.imwrite(os.path.join(output_folder, \"helmet_%d.jpg\" % cpt), frame)\n",
    "\n",
    "    cpt += 1\n",
    "\n",
    "    if cv2.waitKey(5) & 0xFF == 27:  # Break the loop if Esc key is pressed\n",
    "        break\n",
    "\n",
    "cap.release()\n",
    "cv2.destroyAllWindows()"
   ]
  },
  {
   "cell_type": "code",
   "execution_count": null,
   "id": "151c832d-7cb8-464e-8fc0-1a80b0c11447",
   "metadata": {},
   "outputs": [],
   "source": []
  }
 ],
 "metadata": {
  "kernelspec": {
   "display_name": "Python 3 (ipykernel)",
   "language": "python",
   "name": "python3"
  },
  "language_info": {
   "codemirror_mode": {
    "name": "ipython",
    "version": 3
   },
   "file_extension": ".py",
   "mimetype": "text/x-python",
   "name": "python",
   "nbconvert_exporter": "python",
   "pygments_lexer": "ipython3",
   "version": "3.11.5"
  }
 },
 "nbformat": 4,
 "nbformat_minor": 5
}
